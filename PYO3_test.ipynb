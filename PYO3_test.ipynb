{
 "cells": [
  {
   "cell_type": "markdown",
   "id": "720be3d3",
   "metadata": {},
   "source": [
    "# Boilerplate"
   ]
  },
  {
   "cell_type": "code",
   "execution_count": 1,
   "id": "93d978dc",
   "metadata": {},
   "outputs": [],
   "source": [
    "# I shouldn't need this, yet I do...\n",
    "import sys\n",
    "sys.path.insert(0, 'venv/lib/python3.10/site-packages')"
   ]
  },
  {
   "cell_type": "code",
   "execution_count": 2,
   "id": "fd413b24",
   "metadata": {},
   "outputs": [],
   "source": [
    "import pyo3_maturin_test"
   ]
  },
  {
   "cell_type": "markdown",
   "id": "02c2589a",
   "metadata": {},
   "source": [
    "# Run"
   ]
  },
  {
   "cell_type": "code",
   "execution_count": 3,
   "id": "9df06a54",
   "metadata": {},
   "outputs": [
    {
     "data": {
      "text/plain": [
       "'5'"
      ]
     },
     "execution_count": 3,
     "metadata": {},
     "output_type": "execute_result"
    }
   ],
   "source": [
    "pyo3_maturin_test.sum_as_string(2,3)"
   ]
  },
  {
   "cell_type": "code",
   "execution_count": 4,
   "id": "2e7aee97",
   "metadata": {},
   "outputs": [
    {
     "data": {
      "text/plain": [
       "6"
      ]
     },
     "execution_count": 4,
     "metadata": {},
     "output_type": "execute_result"
    }
   ],
   "source": [
    "pyo3_maturin_test.sum_list_of_ints([1,2,3])"
   ]
  },
  {
   "cell_type": "markdown",
   "id": "d946e545",
   "metadata": {},
   "source": [
    "## Force an error"
   ]
  },
  {
   "cell_type": "code",
   "execution_count": 6,
   "id": "724d9139",
   "metadata": {},
   "outputs": [
    {
     "ename": "TypeError",
     "evalue": "argument 'v': 'str' object cannot be interpreted as an integer",
     "output_type": "error",
     "traceback": [
      "\u001b[0;31m---------------------------------------------------------------------------\u001b[0m",
      "\u001b[0;31mTypeError\u001b[0m                                 Traceback (most recent call last)",
      "Input \u001b[0;32mIn [6]\u001b[0m, in \u001b[0;36m<cell line: 1>\u001b[0;34m()\u001b[0m\n\u001b[0;32m----> 1\u001b[0m \u001b[43mpyo3_maturin_test\u001b[49m\u001b[38;5;241;43m.\u001b[39;49m\u001b[43msum_list_of_ints\u001b[49m\u001b[43m(\u001b[49m\u001b[43m[\u001b[49m\u001b[38;5;241;43m1\u001b[39;49m\u001b[43m,\u001b[49m\u001b[38;5;241;43m2\u001b[39;49m\u001b[43m,\u001b[49m\u001b[38;5;241;43m3\u001b[39;49m\u001b[43m,\u001b[49m\u001b[43m \u001b[49m\u001b[38;5;124;43m'\u001b[39;49m\u001b[38;5;124;43ma\u001b[39;49m\u001b[38;5;124;43m'\u001b[39;49m\u001b[43m]\u001b[49m\u001b[43m)\u001b[49m\n",
      "\u001b[0;31mTypeError\u001b[0m: argument 'v': 'str' object cannot be interpreted as an integer"
     ]
    }
   ],
   "source": [
    "pyo3_maturin_test.sum_list_of_ints([1,2,3, 'a'])"
   ]
  }
 ],
 "metadata": {
  "kernelspec": {
   "display_name": "venv",
   "language": "python",
   "name": "venv"
  },
  "language_info": {
   "codemirror_mode": {
    "name": "ipython",
    "version": 3
   },
   "file_extension": ".py",
   "mimetype": "text/x-python",
   "name": "python",
   "nbconvert_exporter": "python",
   "pygments_lexer": "ipython3",
   "version": "3.10.5"
  }
 },
 "nbformat": 4,
 "nbformat_minor": 5
}
